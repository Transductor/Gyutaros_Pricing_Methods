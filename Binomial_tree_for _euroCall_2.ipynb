{
 "cells": [
  {
   "cell_type": "code",
   "execution_count": 2,
   "id": "bb23d80f-936d-44df-a8ed-2e9a61333f67",
   "metadata": {},
   "outputs": [],
   "source": [
    "import math\n",
    "import numpy as np\n",
    "import matplotlib.pyplot as plt\n",
    "\n",
    "class binomial_tree:\n",
    "    def __init__(self,K,T,S,r,N,u,d,price):\n",
    "        self.K = K\n",
    "        self.T = T\n",
    "        self.S = S\n",
    "        self.r = r\n",
    "        self.N = N\n",
    "        self.u = u\n",
    "        self.d = d\n",
    "        self.dt = self.T/self.N\n",
    "        self.p = (math.exp(self.r*self.dt)-self.d)/(self.u-self.d)\n",
    "        self.disc = math.exp(-self.r*self.dt)\n",
    "        self.price=price\n",
    "\n",
    "    def asset_prices_at_maturity_time_step_N(self):\n",
    "        St=np.empty(self.N+1)\n",
    "        St[0]=self.S*pow(self.d,self.N)\n",
    "        for j in range(self.N):\n",
    "            St[j+1]=(St[j]*self.u/self.d)\n",
    "        return St\n",
    "\n",
    "    def option_values_at_maturity(self):\n",
    "        St=self.asset_prices_at_maturity_time_step_N()\n",
    "        C=np.empty(self.N+1)\n",
    "        for j in range(self.N+1):\n",
    "            C[j]=self.price(St[j],self.K)\n",
    "        return C\n",
    "\n",
    "    def europeanCall(self):\n",
    "        C=self.option_values_at_maturity()\n",
    "        for i in range(self.N-1):  \n",
    "            i=self.N-1-i\n",
    "            #Variable i counts the step backward at which we will calculate the calls C_{i,j}\n",
    "            for j in range(i):\n",
    "                C[j]=self.disc*(self.p*C[j+1]+(1-self.p)*C[j])\n",
    "        return C[0]\n",
    "\n",
    "    def show(self):\n",
    "        description=\"\"\"\n",
    "        Binomial tree model for valuate an European call option with strike price {strike},\n",
    "        maturity date {maturity}, initial stock price {stockPrice}, interest market rate {rate},\n",
    "        steps at maturity {steps}, upward rate of the asset {upwardRate}, and downward rate {downwardRate}.\n",
    "        \n",
    "        \"\"\".format(strike=str(self.K),maturity=str(self.T),stockPrice=str(self.S),\n",
    "                   rate=str(self.r),steps=str(self.N),upwardRate=str(self.u),\n",
    "                   downwardRate=str(self.d))\n",
    "        print(description)"
   ]
  },
  {
   "cell_type": "code",
   "execution_count": 7,
   "id": "343844bf-9469-4b3c-a8d0-972f891c0ad6",
   "metadata": {},
   "outputs": [],
   "source": [
    "myEurOption = binomial_tree(100,1,100,0.06,20,1.1,0.9091,lambda s,k: max(0,k-s))"
   ]
  },
  {
   "cell_type": "code",
   "execution_count": 8,
   "id": "52c83569-ab07-418c-b5fc-4aa27313f7d3",
   "metadata": {},
   "outputs": [
    {
     "data": {
      "text/plain": [
       "16.880350343760444"
      ]
     },
     "execution_count": 8,
     "metadata": {},
     "output_type": "execute_result"
    }
   ],
   "source": [
    "myEurOption.europeanCall()"
   ]
  },
  {
   "cell_type": "code",
   "execution_count": null,
   "id": "60c03336-971c-4f35-9b0d-fa5163bba383",
   "metadata": {},
   "outputs": [],
   "source": []
  }
 ],
 "metadata": {
  "kernelspec": {
   "display_name": "Python 3 (ipykernel)",
   "language": "python",
   "name": "python3"
  },
  "language_info": {
   "codemirror_mode": {
    "name": "ipython",
    "version": 3
   },
   "file_extension": ".py",
   "mimetype": "text/x-python",
   "name": "python",
   "nbconvert_exporter": "python",
   "pygments_lexer": "ipython3",
   "version": "3.11.6"
  }
 },
 "nbformat": 4,
 "nbformat_minor": 5
}
